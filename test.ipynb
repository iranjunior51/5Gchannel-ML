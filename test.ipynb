{
 "cells": [
  {
   "cell_type": "code",
   "execution_count": 4,
   "metadata": {},
   "outputs": [
    {
     "data": {
      "text/plain": [
       "[<matplotlib.lines.Line2D at 0x217f7e83c90>]"
      ]
     },
     "execution_count": 4,
     "metadata": {},
     "output_type": "execute_result"
    },
    {
     "data": {
      "image/png": "[encoded data removed]",
      "text/plain": [
       "<Figure size 640x480 with 1 Axes>"
      ]
     },
     "metadata": {},
     "output_type": "display_data"
    },
    {
     "data": {
      "image/png": "[encoded data removed]",
      "text/plain": [
       "<Figure size 640x480 with 1 Axes>"
      ]
     },
     "metadata": {},
     "output_type": "display_data"
    }
   ],
   "source": [
    "import numpy as np\n",
    "from py3gpp import *\n",
    "import matplotlib.pyplot as plt\n",
    "\n",
    "\n",
    "scs = 30e3\n",
    "numRB = 273\n",
    "numSub = numRB * 12\n",
    "fft_size = int(2**np.ceil(np.log2(numSub)))\n",
    "Fs = int(scs * fft_size)\n",
    "Qm = 2\n",
    "N = Qm * numSub\n",
    "NP = int(N * 0.25)\n",
    "\n",
    "\n",
    "pilotsBits = nrPRBS(0, N)\n",
    "symbols = nrSymbolModulate(pilotsBits, 'qpsk')\n",
    "#dataBits = np.random.randint(0, 2, N)\n",
    "#symbols = nrSymbolModulate(dataBits, 'qpsk')\n",
    "#pilotIndex = np.arange(0, fft_size, int(fft_size/len(pilotsSymbols)))\n",
    "#symbols[pilotIndex] = pilotsSymbols\n",
    "\n",
    "\n",
    "grid = 1j*np.zeros([fft_size, 5])\n",
    "grid[int(fft_size/2 - numSub/2):int(fft_size/2 + numSub/2), 1] = symbols\n",
    "plt.imshow(abs(grid), extent=[0, 5, 0, 40])\n",
    "txSignal, info = nrOFDMModulate(grid=grid, initialNSlot=1, Nfft=fft_size, SampleRate=Fs, scs=30)\n",
    "plt.figure()\n",
    "plt.plot(abs(txSignal))\n",
    "\n"
   ]
  },
  {
   "cell_type": "code",
   "execution_count": 73,
   "metadata": {},
   "outputs": [],
   "source": [
    "import pandas as pd\n",
    "\n",
    "\n",
    "csv = pd.read_csv(\"C:\\\\Users\\\\iranj\\\\Documents\\\\TDL-A.csv\")\n",
    "amplitudes = csv['amplitudes']\n",
    "delays = csv['delays']"
   ]
  },
  {
   "cell_type": "code",
   "execution_count": 74,
   "metadata": {},
   "outputs": [
    {
     "name": "stdout",
     "output_type": "stream",
     "text": [
      "[  0  14  14  21  16  19  24  21  28  56  69  81  80  91  92 112 150 164\n",
      " 168 176 184 195 356]\n"
     ]
    },
    {
     "data": {
      "text/plain": [
       "<StemContainer object of 3 artists>"
      ]
     },
     "execution_count": 74,
     "metadata": {},
     "output_type": "execute_result"
    }
   ],
   "source": [
    "desiredDelay = 300\n",
    "#delays = np.array([0, 0.5133, 0.5440, 0.5630, 0.5440, 0.7112, 1.9092, 1.9293, 1.9589, 2.6426, 3.7136, 5.4524, 12.0034, 20.6519]) * desiredDelay\n",
    "#amplitudes = np.array([-0.03, -15.8, -18.1, -19.8, -22.9, -22.4, -18.6, -20.8, -22.6, -22.3, -25.6, -20.2, -29.8, -29.2])\n",
    "\n",
    "\n",
    "#delays = np.array([0, 12, 40, 100])\n",
    "#amplitudes = np.array([-4, -0, -2, -6])\n",
    "delays = delays * desiredDelay\n",
    "\n",
    "delays  = np.int16(delays / (1e9/Fs))\n",
    "print(delays)\n",
    "\n",
    "plt.figure()\n",
    "plt.stem(delays, amplitudes, bottom=-50)\n"
   ]
  },
  {
   "cell_type": "code",
   "execution_count": 75,
   "metadata": {},
   "outputs": [],
   "source": [
    "h = np.zeros(max(delays)+1)\n",
    "#delays = np.array([0, 10, 150, 180, 230, 320, ])\n",
    "h[delays] = 10**(np.array(amplitudes)/10)\n",
    "H = np.fft.fft(h, fft_size)"
   ]
  },
  {
   "cell_type": "code",
   "execution_count": 76,
   "metadata": {},
   "outputs": [
    {
     "data": {
      "text/plain": [
       "[<matplotlib.lines.Line2D at 0x2178d367ed0>]"
      ]
     },
     "execution_count": 76,
     "metadata": {},
     "output_type": "execute_result"
    }
   ],
   "source": [
    "%matplotlib qt\n",
    "rxSignal = np.convolve(txSignal, h)\n",
    "\n",
    "dataRx = nrOFDMDemodulate(waveform=rxSignal/max(abs(rxSignal)), initialNSlot=1, SampleRate=Fs, scs=30, Nfft=fft_size, nrb=numRB)\n",
    "\n",
    "\n",
    "stepPilot = 2\n",
    "\n",
    "pilotIndex = np.arange(0, len(dataRx), stepPilot)\n",
    "H = dataRx[pilotIndex, 1] * symbols[pilotIndex].conj().T\n",
    "\n",
    "#H = np.interp(np.arange(0, len(dataRx)), pilotIndex, H)\n",
    "\n",
    "h = np.fft.ifftshift(np.fft.ifft(H, fft_size))\n",
    "\n",
    "hh = 10*np.log10(abs(h))\n",
    "#hhh = -np.var(hh)*np.ones(fft_size)\n",
    "#hhh[np.arange(1, 2*fft_size, 2)] = hh \n",
    "\n",
    "\n",
    "#idx = np.argmax(hh)\n",
    "plt.figure()\n",
    "plt.plot(hh[int(len(hh)/2)-1:], '-')\n",
    "\n"
   ]
  },
  {
   "cell_type": "code",
   "execution_count": 77,
   "metadata": {},
   "outputs": [
    {
     "data": {
      "text/plain": [
       "[<matplotlib.lines.Line2D at 0x2178d404750>]"
      ]
     },
     "execution_count": 77,
     "metadata": {},
     "output_type": "execute_result"
    }
   ],
   "source": [
    "plt.figure()\n",
    "plt.plot(abs(h[int(len(h)/2)-1:]))"
   ]
  },
  {
   "cell_type": "code",
   "execution_count": 107,
   "metadata": {},
   "outputs": [
    {
     "name": "stdout",
     "output_type": "stream",
     "text": [
      "Total reward: 9923.541666666666\n",
      "Counts: [2.600e+01 5.000e+00 3.000e+00 4.000e+00 4.000e+00 1.000e+00 6.000e+00\n",
      " 8.000e+00 7.000e+00 5.000e+00 4.000e+00 3.000e+00 6.000e+00 8.000e+00\n",
      " 2.000e+00 7.000e+00 6.000e+00 3.000e+00 6.000e+00 5.000e+00 5.000e+00\n",
      " 4.000e+00 4.400e+01 9.828e+03]\n",
      "values: [0.04166667 0.08333333 0.125      0.16666667 0.20833333 0.25\n",
      " 0.29166667 0.33333333 0.375      0.41666667 0.45833333 0.5\n",
      " 0.54166667 0.58333333 0.625      0.66666667 0.70833333 0.75\n",
      " 0.79166667 0.83333333 0.875      0.91666667 0.95833333 1.        ]\n"
     ]
    },
    {
     "data": {
      "text/plain": [
       "[<matplotlib.lines.Line2D at 0x2179c0f0210>]"
      ]
     },
     "execution_count": 107,
     "metadata": {},
     "output_type": "execute_result"
    }
   ],
   "source": [
    "import numpy as np\n",
    "\n",
    "class MultiArmedBandit:\n",
    "    def __init__(self, A):\n",
    "        self.A = A\n",
    "        self.epsilon = 0.1\n",
    "        self.N = np.zeros(A)\n",
    "        self.Q = np.zeros(A)\n",
    "        self.totalReward = 0\n",
    "        \n",
    "        \n",
    "\n",
    "    def select_action(self):\n",
    "        if np.random.rand() > self.epsilon:\n",
    "            return np.argmax(self.Q)\n",
    "        else:\n",
    "            return np.random.randint(0, self.A)\n",
    "    \n",
    "    def get_reward(self, a):\n",
    "        return (a+1) / self.A\n",
    "        \n",
    "    def run_step(self):\n",
    "        a = self.select_action()\n",
    "        R = self.get_reward(a)\n",
    "        self.N[a] += 1\n",
    "        self.Q[a] = self.Q[a] + 1/self.N[a] * (R - self.Q[a])\n",
    "        self.epsilon = max(0.001, self.epsilon*0.999)\n",
    "        return R\n",
    "\n",
    "\n",
    "    # def update(self, chosen_arm, reward):\n",
    "    #     self.counts[chosen_arm] += 1\n",
    "    #     n = self.counts[chosen_arm]\n",
    "    #     value = self.values[chosen_arm]\n",
    "    #     new_value = ((n - 1) / n) * value + (1 / n) * reward\n",
    "    #     self.values[chosen_arm] = new_value\n",
    "        \n",
    "\n",
    "# Exemplo de uso\n",
    "A = 24\n",
    "epsilon = 0.1\n",
    "bandit = MultiArmedBandit(A)\n",
    "\n",
    "T = 10000 # Recompensas simuladas para cada braço e passo\n",
    "total_reward = 0\n",
    "\n",
    "rewards = np.zeros(T)\n",
    "avg_rewards = np.zeros(T)\n",
    "for step in range(T):\n",
    "    reward = bandit.run_step()\n",
    "    \n",
    "    rewards[step] = reward#\n",
    "    avg_rewards[step] = np.sum(rewards[0:step]) / (step+ 1)\n",
    "    total_reward += reward\n",
    "\n",
    "print(f\"Total reward: {total_reward}\")\n",
    "print(f\"Counts: {bandit.N}\")\n",
    "print(f\"values: {bandit.Q}\")\n",
    "\n",
    "\n",
    "plt.plot(avg_rewards)\n",
    "\n",
    "\n"
   ]
  }
 ],
 "metadata": {
  "kernelspec": {
   "display_name": ".venv",
   "language": "python",
   "name": "python3"
  },
  "language_info": {
   "codemirror_mode": {
    "name": "ipython",
    "version": 3
   },
   "file_extension": ".py",
   "mimetype": "text/x-python",
   "name": "python",
   "nbconvert_exporter": "python",
   "pygments_lexer": "ipython3",
   "version": "3.11.9"
  }
 },
 "nbformat": 4,
 "nbformat_minor": 2
}
