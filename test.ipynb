{
 "cells": [
  {
   "cell_type": "code",
   "execution_count": 378,
   "metadata": {},
   "outputs": [
    {
     "data": {
      "text/plain": [
       "[<matplotlib.lines.Line2D at 0x231bfaa6b10>]"
      ]
     },
     "execution_count": 378,
     "metadata": {},
     "output_type": "execute_result"
    }
   ],
   "source": [
    "import numpy as np\n",
    "from py3gpp import *\n",
    "import matplotlib.pyplot as plt\n",
    "\n",
    "PDS\n",
    "nrPDSCHConfig()\n",
    "nrPDSCHDMRS()\n",
    "\n",
    "scs = 30e3\n",
    "numRB = 273\n",
    "numSub = numRB * 12\n",
    "fft_size = int(2**np.ceil(np.log2(numSub)))\n",
    "Fs = int(scs * fft_size)\n",
    "Qm = 2\n",
    "N = Qm * numSub\n",
    "NP = int(N * 0.25)\n",
    "\n",
    "\n",
    "pilotsBits = nrPRBS(0, N)\n",
    "symbols = nrSymbolModulate(pilotsBits, 'qpsk')\n",
    "#dataBits = np.random.randint(0, 2, N)\n",
    "#symbols = nrSymbolModulate(dataBits, 'qpsk')\n",
    "#pilotIndex = np.arange(0, fft_size, int(fft_size/len(pilotsSymbols)))\n",
    "#symbols[pilotIndex] = pilotsSymbols\n",
    "\n",
    "\n",
    "grid = 1j*np.zeros([fft_size, 5])\n",
    "grid[int(fft_size/2 - numSub/2):int(fft_size/2 + numSub/2), 1] = symbols\n",
    "plt.imshow(abs(grid), extent=[0, 5, 0, 40])\n",
    "txSignal, info = nrOFDMModulate(grid=grid, initialNSlot=1, Nfft=fft_size, SampleRate=Fs, scs=30)\n",
    "plt.figure()\n",
    "plt.plot(abs(txSignal))\n",
    "\n"
   ]
  },
  {
   "cell_type": "code",
   "execution_count": 446,
   "metadata": {},
   "outputs": [],
   "source": [
    "import pandas as pd\n",
    "\n",
    "\n",
    "csv = pd.read_csv(\"C:\\\\Users\\\\iranj\\\\Documents\\\\TDL-A.csv\")\n",
    "amplitudes = csv['amplitudes']\n",
    "delays = csv['delays']"
   ]
  },
  {
   "cell_type": "code",
   "execution_count": 447,
   "metadata": {},
   "outputs": [
    {
     "data": {
      "text/plain": [
       "<StemContainer object of 3 artists>"
      ]
     },
     "execution_count": 447,
     "metadata": {},
     "output_type": "execute_result"
    }
   ],
   "source": [
    "desiredDelay = 300\n",
    "#delays = np.array([0, 5.133, 5.440, 5630, 5.440, 7.112, 19.092, 19.293, 19.589, 26.426, 37.136, 54.524, 120.034, 206.519]) * desiredDelay\n",
    "#amplitudes = np.array([-0.03, -15.8, -18.1, -19.8, -22.9, -22.4, -18.6, -20.8, -22.6, -22.3, -25.6, -20.2, -29.8, -29.2])\n",
    "\n",
    "\n",
    "#delays = np.array([0, 12, 40, 100])\n",
    "#amplitudes = np.array([-4, -0, -2, -6])\n",
    "delays = delays * desiredDelay\n",
    "delays  = np.int16(delays / (1e9/Fs))\n",
    "\n",
    "plt.figure()\n",
    "plt.stem(delays, amplitudes, bottom=-50)\n"
   ]
  },
  {
   "cell_type": "code",
   "execution_count": 448,
   "metadata": {},
   "outputs": [],
   "source": [
    "h = np.zeros(max(delays)+1)\n",
    "#delays = np.array([0, 10, 150, 180, 230, 320, ])\n",
    "h[delays] = 10**(np.array(amplitudes)/10)\n",
    "H = np.fft.fft(h, fft_size)"
   ]
  },
  {
   "cell_type": "code",
   "execution_count": 449,
   "metadata": {},
   "outputs": [],
   "source": [
    "%matplotlib qt\n",
    "rxSignal = np.convolve(txSignal, h)\n",
    "\n",
    "dataRx = nrOFDMDemodulate(waveform=rxSignal, initialNSlot=1, SampleRate=Fs, scs=30, Nfft=fft_size, nrb=numRB)\n",
    "\n",
    "pilotIndex = np.arange(0, len(dataRx), 2)\n",
    "H = dataRx[pilotIndex, 1] * symbols[pilotIndex].conj().T\n",
    "\n",
    "H = np.interp(np.arange(0, len(dataRx), pilotIndex, H)\n",
    "\n",
    "h = np.fft.ifftshift(np.fft.ifft(H, fft_size))\n",
    "\n",
    "#hh = 10*np.log10(abs(h))\n",
    "#hhh = -np.var(hh)*np.ones(fft_size)\n",
    "#hhh[np.arange(1, 2*fft_size, 2)] = hh \n",
    "\n",
    "\n",
    "#idx = np.argmax(hh)\n",
    "#plt.figure()\n",
    "#plt.plot(hh[int(fft_size/2)-1:], '-')\n",
    "\n"
   ]
  },
  {
   "cell_type": "code",
   "execution_count": 450,
   "metadata": {},
   "outputs": [
    {
     "data": {
      "text/plain": [
       "[<matplotlib.lines.Line2D at 0x231f1ae7010>]"
      ]
     },
     "execution_count": 450,
     "metadata": {},
     "output_type": "execute_result"
    }
   ],
   "source": [
    "out = np.correlate(rxSignal, txSignal[info['CyclicPrefixLengths'][1]:], 'valid')\n",
    "plt.figure()\n",
    "plt.plot(10*np.log10(abs(out)), '-')"
   ]
  },
  {
   "cell_type": "code",
   "execution_count": 451,
   "metadata": {},
   "outputs": [
    {
     "data": {
      "text/plain": [
       "[<matplotlib.lines.Line2D at 0x231f2ab6590>]"
      ]
     },
     "execution_count": 451,
     "metadata": {},
     "output_type": "execute_result"
    }
   ],
   "source": [
    "plt.figure()\n",
    "plt.plot(abs(h[int(len(h)/2)-1:]))"
   ]
  },
  {
   "cell_type": "code",
   "execution_count": 452,
   "metadata": {},
   "outputs": [
    {
     "ename": "TypeError",
     "evalue": "MultiArmedBandit.__init__() takes 2 positional arguments but 3 were given",
     "output_type": "error",
     "traceback": [
      "\u001b[1;31m---------------------------------------------------------------------------\u001b[0m",
      "\u001b[1;31mTypeError\u001b[0m                                 Traceback (most recent call last)",
      "Cell \u001b[1;32mIn[452], line 37\u001b[0m\n\u001b[0;32m     35\u001b[0m n_arms \u001b[38;5;241m=\u001b[39m \u001b[38;5;241m5\u001b[39m\n\u001b[0;32m     36\u001b[0m epsilon \u001b[38;5;241m=\u001b[39m \u001b[38;5;241m0.1\u001b[39m\n\u001b[1;32m---> 37\u001b[0m bandit \u001b[38;5;241m=\u001b[39m \u001b[43mMultiArmedBandit\u001b[49m\u001b[43m(\u001b[49m\u001b[43mn_arms\u001b[49m\u001b[43m,\u001b[49m\u001b[43m \u001b[49m\u001b[43mepsilon\u001b[49m\u001b[43m)\u001b[49m\n\u001b[0;32m     39\u001b[0m n_steps \u001b[38;5;241m=\u001b[39m \u001b[38;5;241m10000\u001b[39m\n\u001b[0;32m     40\u001b[0m rewards \u001b[38;5;241m=\u001b[39m np\u001b[38;5;241m.\u001b[39mrandom\u001b[38;5;241m.\u001b[39mrandn(n_steps, n_arms)  \u001b[38;5;66;03m# Recompensas simuladas para cada braço e passo\u001b[39;00m\n",
      "\u001b[1;31mTypeError\u001b[0m: MultiArmedBandit.__init__() takes 2 positional arguments but 3 were given"
     ]
    }
   ],
   "source": [
    "import numpy as np\n",
    "\n",
    "class MultiArmedBandit:\n",
    "    def __init__(self, A):\n",
    "        self.A = A\n",
    "        self.epsilon = 0.2\n",
    "        self.N = np.zeros(A)\n",
    "        self.Q = np.zeros(A)\n",
    "        \n",
    "\n",
    "    def select_action(self):\n",
    "        if np.random.rand() > self.epsilon:\n",
    "            return np.argmax(self.Q)\n",
    "        else:\n",
    "            return np.random.randint(0, self.A)\n",
    "    \n",
    "    def get_reward(self):\n",
    "        np.random.rand()\n",
    "        return \n",
    "        \n",
    "    def run_step(self):\n",
    "        a = self.select_action()\n",
    "        re \n",
    "\n",
    "\n",
    "    def update(self, chosen_arm, reward):\n",
    "        self.counts[chosen_arm] += 1\n",
    "        n = self.counts[chosen_arm]\n",
    "        value = self.values[chosen_arm]\n",
    "        new_value = ((n - 1) / n) * value + (1 / n) * reward\n",
    "        self.values[chosen_arm] = new_value\n",
    "        \n",
    "\n",
    "# Exemplo de uso\n",
    "n_arms = 5\n",
    "epsilon = 0.1\n",
    "bandit = MultiArmedBandit(n_arms, epsilon)\n",
    "\n",
    "n_steps = 10000\n",
    "rewards = np.random.randn(n_steps, n_arms)  # Recompensas simuladas para cada braço e passo\n",
    "total_reward = 0\n",
    "\n",
    "for step in range(n_steps):\n",
    "    chosen_arm = bandit.select_arm()\n",
    "    reward = rewards[step, chosen_arm]\n",
    "    bandit.update(chosen_arm, reward)\n",
    "    total_reward += reward\n",
    "\n",
    "print(f\"Total reward: {total_reward}\")\n",
    "print(f\"Counts: {bandit.counts}\")\n",
    "print(f\"values: {bandit.values}\")\n",
    "\n",
    "\n"
   ]
  }
 ],
 "metadata": {
  "kernelspec": {
   "display_name": ".venv",
   "language": "python",
   "name": "python3"
  },
  "language_info": {
   "codemirror_mode": {
    "name": "ipython",
    "version": 3
   },
   "file_extension": ".py",
   "mimetype": "text/x-python",
   "name": "python",
   "nbconvert_exporter": "python",
   "pygments_lexer": "ipython3",
   "version": "3.11.9"
  }
 },
 "nbformat": 4,
 "nbformat_minor": 2
}
